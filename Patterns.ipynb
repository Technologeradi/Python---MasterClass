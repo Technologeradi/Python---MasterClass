{
 "cells": [
  {
   "cell_type": "code",
   "execution_count": null,
   "metadata": {
    "collapsed": true
   },
   "outputs": [],
   "source": [
    "for i in range(4):\n",
    "    for j in range(4):\n",
    "        print(\"# \", end= \"\")\n",
    "    print()\n",
    "'''\n",
    "# # # # \n",
    "# # # # \n",
    "# # # # \n",
    "# # # # \n",
    "'''"
   ]
  },
  {
   "cell_type": "code",
   "execution_count": null,
   "outputs": [],
   "source": [
    "for i in range(4):\n",
    "    for j in range(i+1):\n",
    "        print(\"# \", end= \"\")\n",
    "    print()\n",
    "\n",
    "'''\n",
    "# \n",
    "# # \n",
    "# # # \n",
    "# # # # \n",
    "'''"
   ],
   "metadata": {
    "collapsed": false,
    "pycharm": {
     "name": "#%%\n"
    }
   }
  },
  {
   "cell_type": "code",
   "execution_count": null,
   "outputs": [],
   "source": [
    "for i in range(4):\n",
    "    for j in range(4-i):\n",
    "        print(\"# \", end= \"\")\n",
    "    print()\n",
    "\n",
    "'''\n",
    "# # # # \n",
    "# # # \n",
    "# # \n",
    "# \n",
    "'''"
   ],
   "metadata": {
    "collapsed": false,
    "pycharm": {
     "name": "#%%\n"
    }
   }
  },
  {
   "cell_type": "code",
   "execution_count": null,
   "outputs": [],
   "source": [
    "k = 8 - 2\n",
    "for i in range(4):\n",
    "    for j in range(k):\n",
    "         print(end=\" \")\n",
    "    k = k - 1\n",
    "    for j in range(0, i+1):\n",
    "            print(\"# \", end=\"\")\n",
    "    print(\"\\r\")\n",
    "\n",
    "'''\n",
    "      # \n",
    "     # # \n",
    "    # # # \n",
    "   # # # # \n",
    "'''"
   ],
   "metadata": {
    "collapsed": false,
    "pycharm": {
     "name": "#%%\n"
    }
   }
  },
  {
   "cell_type": "code",
   "execution_count": null,
   "metadata": {},
   "outputs": [],
   "source": [
    "n = 3\n",
    "k = 0\n",
    "for i in range(1,n+1):\n",
    "    for j in range(i,n):\n",
    "        print(' ', end=' ')\n",
    "    while(k != (2 * i -1)):\n",
    "        if (k == 0 or k == 2 * i - 2):\n",
    "            print('*', end=' ')\n",
    "        else:\n",
    "            print(' ', end=' ')\n",
    "        k = k + 1\n",
    "    k = 0\n",
    "    print(' ')\n",
    "for i in range(0, 2 * n - 1):\n",
    "    print('*', end=\" \")\n"
   ]
  },
  {
   "cell_type": "code",
   "execution_count": null,
   "outputs": [],
   "source": [
    "num = 1\n",
    "for i in range(4):\n",
    "    num = 1\n",
    "    for j in range(i+1):\n",
    "        print(num, end=\" \")\n",
    "        num = num + 1\n",
    "    print(\"\\r\")\n",
    "\n",
    "'''\n",
    "1 \n",
    "1 2 \n",
    "1 2 3 \n",
    "1 2 3 4 \n",
    "'''"
   ],
   "metadata": {
    "collapsed": false,
    "pycharm": {
     "name": "#%%\n"
    }
   }
  },
  {
   "cell_type": "code",
   "execution_count": null,
   "outputs": [],
   "source": [
    "num =1\n",
    "for i in range(4):\n",
    "    for j in range(i+1):\n",
    "        print(num, end=\" \")\n",
    "        num = num+1\n",
    "    print(\" \")\n",
    "\n",
    "'''\n",
    "1  \n",
    "2 3  \n",
    "4 5 6  \n",
    "7 8 9 10 \n",
    "'''"
   ],
   "metadata": {
    "collapsed": false,
    "pycharm": {
     "name": "#%%\n"
    }
   }
  },
  {
   "cell_type": "code",
   "execution_count": null,
   "outputs": [],
   "source": [
    " num = 65\n",
    "for i in range(4):\n",
    "    for j in range(i+1):\n",
    "        ch = chr(num)\n",
    "        print(ch, end=\" \")\n",
    "    num = num + 1\n",
    "    print(\" \")\n",
    "\n",
    "'''\n",
    "A  \n",
    "B B  \n",
    "C C C  \n",
    "D D D D  \n",
    "'''"
   ],
   "metadata": {
    "collapsed": false,
    "pycharm": {
     "name": "#%%\n"
    }
   }
  },
  {
   "cell_type": "code",
   "execution_count": null,
   "outputs": [],
   "source": [
    " num = 65\n",
    "for i in range(4):\n",
    "    for j in range(i+1):\n",
    "        ch = chr(num)\n",
    "        print(ch, end=\" \")\n",
    "    num = num + 1\n",
    "    print(\" \")\n",
    "\n",
    "'''\n"
   ],
   "metadata": {
    "collapsed": false,
    "pycharm": {
     "name": "#%%\n"
    }
   }
  },
  {
   "cell_type": "code",
   "execution_count": null,
   "outputs": [],
   "source": [
    "rows = 10\n",
    "columns = 2*rows -1\n",
    "i = 0\n",
    "while i < rows:\n",
    "    j = 0\n",
    "    while j < columns :\n",
    "        if( (columns//2)-i <= j <= (columns//2)  +i):\n",
    "            print(\"*\",end = \"\")\n",
    "        else:\n",
    "            print(\" \",end = \"\")\n",
    "\n",
    "        j+=1\n",
    "    print(\" \")\n",
    "    i+=1\n",
    "\n",
    "i = 0\n",
    "while i < rows:\n",
    "    j = 0\n",
    "    while j < columns :\n",
    "        if( i <= j <= columns-1 -i):\n",
    "            print(\"*\",end = \"\")\n",
    "        else:\n",
    "            print(\" \",end = \"\")\n",
    "\n",
    "        j+=1\n",
    "    print(\" \")\n",
    "    i+=1\n",
    "   \n",
    "\n",
    "'''\n",
    "         *          \n",
    "        ***         \n",
    "       *****        \n",
    "      *******       \n",
    "     *********      \n",
    "    ***********     \n",
    "   *************    \n",
    "  ***************   \n",
    " *****************  \n",
    "******************* \n",
    "******************* \n",
    " *****************  \n",
    "  ***************   \n",
    "   *************    \n",
    "    ***********     \n",
    "     *********      \n",
    "      *******       \n",
    "       *****        \n",
    "        ***         \n",
    "         *    \n",
    "'''\n"
   ],
   "metadata": {
    "collapsed": false,
    "pycharm": {
     "name": "#%%\n"
    }
   }
  }
 ],
 "metadata": {
  "kernelspec": {
   "name": "pycharm-730c92f5",
   "language": "python",
   "display_name": "PyCharm (Python---MasterClass)"
  },
  "language_info": {
   "codemirror_mode": {
    "name": "ipython",
    "version": 2
   },
   "file_extension": ".py",
   "mimetype": "text/x-python",
   "name": "python",
   "nbconvert_exporter": "python",
   "pygments_lexer": "ipython2",
   "version": "3.7.6-final"
  }
 },
 "nbformat": 4,
 "nbformat_minor": 0
}