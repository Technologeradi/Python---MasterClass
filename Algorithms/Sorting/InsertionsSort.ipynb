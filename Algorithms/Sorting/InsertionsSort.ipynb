{
 "metadata": {
  "language_info": {
   "codemirror_mode": {
    "name": "ipython",
    "version": 3
   },
   "file_extension": ".py",
   "mimetype": "text/x-python",
   "name": "python",
   "nbconvert_exporter": "python",
   "pygments_lexer": "ipython3",
   "version": "3.7.6-final"
  },
  "orig_nbformat": 2,
  "kernelspec": {
   "name": "Python 3.7.6 64-bit ('Aditya': virtualenv)",
   "display_name": "Python 3.7.6 64-bit ('Aditya': virtualenv)",
   "metadata": {
    "interpreter": {
     "hash": "4bba1d32cad56bd564e8db7f54bce5a3582261770c0fd88a009216e68a1efe96"
    }
   }
  }
 },
 "nbformat": 4,
 "nbformat_minor": 2,
 "cells": [
  {
   "source": [
    "# Insertions Sort \n",
    "\n",
    "Algorithm\n",
    "```\n",
    "insertionSort(array)\n",
    "  mark first element as sorted\n",
    "  for each unsorted element X\n",
    "    'extract' the element X\n",
    "    for j <- lastSortedIndex down to 0\n",
    "      if current element j > X\n",
    "        move sorted element to the right by 1\n",
    "    break loop and insert X here\n",
    "end insertionSort\n",
    "```\n",
    "![https://media.giphy.com/media/45yQjiR9ekzgO4qGQU/giphy.gif](https://media.giphy.com/media/45yQjiR9ekzgO4qGQU/giphy.gif)\n",
    "\n"
   ],
   "cell_type": "markdown",
   "metadata": {}
  },
  {
   "cell_type": "code",
   "execution_count": null,
   "metadata": {},
   "outputs": [],
   "source": [
    "def insertionSort(array):\n",
    "\n",
    "    for step in range(1, len(array)):\n",
    "        key = array[step]\n",
    "        j = step - 1\n",
    "        \n",
    "        # Compare key with each element on the left of it until an element smaller than it is found\n",
    "        # For descending order, change key<array[j] to key>array[j].        \n",
    "        while j >= 0 and key < array[j]:\n",
    "            array[j + 1] = array[j]\n",
    "            j = j - 1\n",
    "        \n",
    "        # Place key at after the element just smaller than it.\n",
    "        array[j + 1] = key"
   ]
  },
  {
   "cell_type": "code",
   "execution_count": null,
   "metadata": {},
   "outputs": [],
   "source": [
    "data = [9, 5, 1, 4, 3]\n",
    "insertionSort(data)\n",
    "print('Sorted Array in Ascending Order:')\n",
    "print(data)"
   ]
  }
 ]
}