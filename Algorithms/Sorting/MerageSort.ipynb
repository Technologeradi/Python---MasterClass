{
 "metadata": {
  "language_info": {
   "codemirror_mode": {
    "name": "ipython",
    "version": 3
   },
   "file_extension": ".py",
   "mimetype": "text/x-python",
   "name": "python",
   "nbconvert_exporter": "python",
   "pygments_lexer": "ipython3",
   "version": 3
  },
  "orig_nbformat": 2
 },
 "nbformat": 4,
 "nbformat_minor": 2,
 "cells": [
  {
   "source": [
    "# Merage Sort\n",
    "Merge Sort is a kind of Divide and Conquer algorithm in computer programming. It is one of the most popular sorting algorithms and a great way to develop confidence in building recursive algorithms.\n",
    "```\n",
    "MergeSort(A, p, r):\n",
    "    if p > r \n",
    "        return\n",
    "    q = (p+r)/2\n",
    "    mergeSort(A, p, q)\n",
    "    mergeSort(A, q+1, r)\n",
    "    merge(A, p, q, r)\n",
    "```"
   ],
   "cell_type": "markdown",
   "metadata": {}
  }
 ]
}