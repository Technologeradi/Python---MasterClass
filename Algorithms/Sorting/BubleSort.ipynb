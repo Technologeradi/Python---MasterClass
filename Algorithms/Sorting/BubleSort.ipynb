{
 "metadata": {
  "language_info": {
   "codemirror_mode": {
    "name": "ipython",
    "version": 3
   },
   "file_extension": ".py",
   "mimetype": "text/x-python",
   "name": "python",
   "nbconvert_exporter": "python",
   "pygments_lexer": "ipython3",
   "version": "3.7.6-final"
  },
  "orig_nbformat": 2,
  "kernelspec": {
   "name": "Python 3.7.6 64-bit ('base': conda)",
   "display_name": "Python 3.7.6 64-bit ('base': conda)",
   "metadata": {
    "interpreter": {
     "hash": "4bba1d32cad56bd564e8db7f54bce5a3582261770c0fd88a009216e68a1efe96"
    }
   }
  }
 },
 "nbformat": 4,
 "nbformat_minor": 2,
 "cells": [
  {
   "source": [
    "# Bubble Sort  \n",
    "\n",
    "Bubble sort, sometimes referred to as sinking sort, is a simple sorting algorithm that repeatedly steps through the list, compares adjacent elements and swaps them if they are in the wrong order. The pass through the list is repeated until the list is sorted. The algorithm, which is a comparison sort, is named for the way smaller or larger elements \"bubble\" to the top of the list.  \n",
    "  ---\n",
    "Algorithm\n",
    "```\n",
    "bubbleSort(array)  \n",
    "  for i <- 1 to indexOfLastUnsortedElement-1  \n",
    "    if leftElement > rightElement  \n",
    "      swap leftElement and rightElement  \n",
    "end bubbleSort\n",
    "```\n",
    "![Visuition](https://media.giphy.com/media/tYira5kDbgh81XWcU7/giphy.gif)"
   ],
   "cell_type": "markdown",
   "metadata": {}
  },
  {
   "cell_type": "code",
   "execution_count": null,
   "metadata": {},
   "outputs": [],
   "source": [
    "def BubbleSort(arr):\n",
    "    n = len(arr)\n",
    "    for i in range(n-1):\n",
    "        for j in range(0, n-i-1):\n",
    "            if arr[j]>arr[j + 1]:\n",
    "                arr[j],arr[j + 1] = arr[j + 1], arr[j]\n"
   ]
  },
  {
   "cell_type": "code",
   "execution_count": null,
   "metadata": {},
   "outputs": [],
   "source": [
    "arr = [1,2,14,66,42,3,24,6,4,8]\n",
    "BubbleSort(arr)\n",
    "\n",
    "for i in range(len(arr)):\n",
    "    print(\"%d\"%arr[i])\n"
   ]
  },
  {
   "source": [
    "Complexity: $O(n^{2})$\n",
    "\n",
    "\n",
    "Time Complexities:\n",
    "\n",
    "Worst Case Complexity: $O(n^{2})$\n",
    "\n",
    "Best Case Complexity: $O(n)$\n",
    "\n",
    "Average Case Complexity: $O(n^{2})$\n",
    "\n",
    "Space Complexity:\n",
    "In the optimized algorithm, the variable swapped adds to the space complexity thus, making it O(2).\n",
    "\n"
   ],
   "cell_type": "markdown",
   "metadata": {}
  }
 ]
}