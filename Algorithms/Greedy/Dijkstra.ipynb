{
 "metadata": {
  "language_info": {
   "codemirror_mode": {
    "name": "ipython",
    "version": 3
   },
   "file_extension": ".py",
   "mimetype": "text/x-python",
   "name": "python",
   "nbconvert_exporter": "python",
   "pygments_lexer": "ipython3",
   "version": 3
  },
  "orig_nbformat": 2
 },
 "nbformat": 4,
 "nbformat_minor": 2,
 "cells": [
  {
   "source": [
    "# Dijkstra's Algorithm  \n",
    "Dijkstra's Algorithm basically starts at the node that you choose (the source node) and it analyzes the graph to find the shortest path between that node and all the other nodes in the graph.  \n",
    "The algorithm keeps track of the currently known shortest distance from each node to the source node and it updates these values if it finds a shorter path.\n",
    "Once the algorithm has found the shortest path between the source node and another node, that node is marked as \"visited\" and added to the path.  \n",
    "The process continues until all the nodes in the graph have been added to the path. This way, we have a path that connects the source node to all other nodes following the shortest path possible to reach each node."
   ],
   "cell_type": "markdown",
   "metadata": {}
  }
 ]
}