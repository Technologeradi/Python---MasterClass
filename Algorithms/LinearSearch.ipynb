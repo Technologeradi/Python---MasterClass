{
 "metadata": {
  "language_info": {
   "codemirror_mode": {
    "name": "ipython",
    "version": 3
   },
   "file_extension": ".py",
   "mimetype": "text/x-python",
   "name": "python",
   "nbconvert_exporter": "python",
   "pygments_lexer": "ipython3",
   "version": "3.7.6-final"
  },
  "orig_nbformat": 2,
  "kernelspec": {
   "name": "Python 3.7.6 64-bit ('base': conda)",
   "display_name": "Python 3.7.6 64-bit ('base': conda)",
   "metadata": {
    "interpreter": {
     "hash": "4bba1d32cad56bd564e8db7f54bce5a3582261770c0fd88a009216e68a1efe96"
    }
   }
  }
 },
 "nbformat": 4,
 "nbformat_minor": 2,
 "cells": [
  {
   "source": [
    "# Linera Search \n",
    "Linear search is the simplest searching algorithm that searches for an element in a list in sequential order.  \n",
    "We start at one end and check every element until the desired element is not found.\n",
    "### Algorithm\n",
    "```\n",
    "LinearSearch(array, key)\n",
    "  for each item in the array\n",
    "    if item == value\n",
    "      return its index\n",
    "```"
   ],
   "cell_type": "markdown",
   "metadata": {}
  },
  {
   "cell_type": "code",
   "execution_count": null,
   "metadata": {},
   "outputs": [],
   "source": [
    "def LinearSearch(array, n, x):\n",
    "    for i in range(0, n):\n",
    "        if (array[i] == x):\n",
    "            return i\n",
    "    return -1\n"
   ]
  },
  {
   "cell_type": "code",
   "execution_count": null,
   "metadata": {},
   "outputs": [],
   "source": [
    "array = [9,5,1,3,7,8,2,4,6]\n",
    "x =  2\n",
    "n = len(array)\n",
    "result = LinearSearch(array, n, x)\n",
    "if(result == -1):\n",
    "    print(\"Nope\")\n",
    "else:\n",
    "    print(\"Element at \", result)"
   ]
  }
 ]
}