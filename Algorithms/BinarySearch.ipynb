{
 "metadata": {
  "language_info": {
   "codemirror_mode": {
    "name": "ipython",
    "version": 3
   },
   "file_extension": ".py",
   "mimetype": "text/x-python",
   "name": "python",
   "nbconvert_exporter": "python",
   "pygments_lexer": "ipython3",
   "version": "3.8.3-final"
  },
  "orig_nbformat": 2,
  "kernelspec": {
   "name": "Python 3.8.3 64-bit (conda)",
   "display_name": "Python 3.8.3 64-bit (conda)",
   "metadata": {
    "interpreter": {
     "hash": "4bba1d32cad56bd564e8db7f54bce5a3582261770c0fd88a009216e68a1efe96"
    }
   }
  }
 },
 "nbformat": 4,
 "nbformat_minor": 2,
 "cells": [
  {
   "source": [
    "# Binary Search\n",
    "\n",
    "```\n",
    "Algorithm\n",
    "do until the pointers low and high meet each other.\n",
    "    mid = (low + high)/2\n",
    "    if (x == arr[mid])\n",
    "        return mid\n",
    "    else if (x > A[mid]) // x is on the right side\n",
    "        low = mid + 1\n",
    "    else                 // x is on the left side\n",
    "        high = mid - 1\n",
    "```\n",
    "\n"
   ],
   "cell_type": "markdown",
   "metadata": {}
  },
  {
   "cell_type": "code",
   "execution_count": null,
   "metadata": {},
   "outputs": [],
   "source": [
    "def BinarySearch(array, x, low, high):\n",
    "    while low <= high:\n",
    "        mid = low +(high - low) // 2\n",
    "\n",
    "        if array[mid] == x:\n",
    "            return mid\n",
    "\n",
    "        elif array[mid] < x:\n",
    "            low = mid + 1\n",
    "        \n",
    "        else:\n",
    "            high = mid - 1\n",
    "\n",
    "    return -1"
   ]
  },
  {
   "cell_type": "code",
   "execution_count": null,
   "metadata": {},
   "outputs": [],
   "source": [
    "array = [3, 4, 5, 6, 7, 8, 9]\n",
    "x = 8\n",
    "\n",
    "result = BinarySearch(array, x, 0, len(array)-1)\n",
    "\n",
    "if result != -1:\n",
    "    print(\"Element is at \"+ str(result))\n",
    "else:\n",
    "    print(\"Not Found\")"
   ]
  }
 ]
}