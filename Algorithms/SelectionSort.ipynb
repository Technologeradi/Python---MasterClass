{
 "metadata": {
  "language_info": {
   "codemirror_mode": {
    "name": "ipython",
    "version": 3
   },
   "file_extension": ".py",
   "mimetype": "text/x-python",
   "name": "python",
   "nbconvert_exporter": "python",
   "pygments_lexer": "ipython3",
   "version": "3.7.6-final"
  },
  "orig_nbformat": 2,
  "kernelspec": {
   "name": "Python 3.7.6 64-bit ('base': conda)",
   "display_name": "Python 3.7.6 64-bit ('base': conda)",
   "metadata": {
    "interpreter": {
     "hash": "4bba1d32cad56bd564e8db7f54bce5a3582261770c0fd88a009216e68a1efe96"
    }
   }
  }
 },
 "nbformat": 4,
 "nbformat_minor": 2,
 "cells": [
  {
   "source": [
    "# Selection Sort\n",
    "\n",
    "\n",
    "##Selection Sort Algorithm\n",
    "```\n",
    "selectionSort(array, size)\n",
    "  repeat (size - 1) times\n",
    "  set the first unsorted element as the minimum\n",
    "  for each of the unsorted elements\n",
    "    if element < currentMinimum\n",
    "      set element as new minimum\n",
    "  swap minimum with first unsorted position\n",
    "end selectionSort\n",
    "```\n",
    "![Visuition](https://media.giphy.com/media/9BeWCfELBwU4sCx6pB/giphy.gif)\n"
   ],
   "cell_type": "markdown",
   "metadata": {}
  },
  {
   "cell_type": "code",
   "execution_count": null,
   "metadata": {},
   "outputs": [],
   "source": [
    "def selectionSort(array, size):\n",
    "    for step in range(size):\n",
    "        min_idx = step\n",
    "        for i in range(step + 1, size):\n",
    "            # to sort in descending order, change > to < in this line\n",
    "            # select the minimum element in each loop\n",
    "            if array[i] < array[min_idx]:\n",
    "                min_idx = i\n",
    "        # put min at the correct position\n",
    "        (array[step], array[min_idx]) = (array[min_idx], array[step])"
   ]
  },
  {
   "cell_type": "code",
   "execution_count": null,
   "metadata": {},
   "outputs": [],
   "source": [
    "data = [9,2,10,5.6,8,7,3,1,4]\n",
    "size = len(data)\n",
    "selectionSort(data, size)\n",
    "print('Sorted Array in Ascending Order:')\n",
    "print(data)"
   ]
  },
  {
   "source": [],
   "cell_type": "markdown",
   "metadata": {}
  }
 ]
}