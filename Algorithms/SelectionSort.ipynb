{
 "metadata": {
  "language_info": {
   "codemirror_mode": {
    "name": "ipython",
    "version": 3
   },
   "file_extension": ".py",
   "mimetype": "text/x-python",
   "name": "python",
   "nbconvert_exporter": "python",
   "pygments_lexer": "ipython3",
   "version": 3
  },
  "orig_nbformat": 2
 },
 "nbformat": 4,
 "nbformat_minor": 2,
 "cells": [
  {
   "source": [
    "# Selection Sort\n",
    "\n",
    "\n",
    "##Selection Sort Algorithm\n",
    "```\n",
    "selectionSort(array, size)\n",
    "  repeat (size - 1) times\n",
    "  set the first unsorted element as the minimum\n",
    "  for each of the unsorted elements\n",
    "    if element < currentMinimum\n",
    "      set element as new minimum\n",
    "  swap minimum with first unsorted position\n",
    "end selectionSort\n",
    "```"
   ],
   "cell_type": "markdown",
   "metadata": {}
  }
 ]
}