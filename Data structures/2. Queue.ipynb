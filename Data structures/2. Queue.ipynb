{
 "metadata": {
  "language_info": {
   "codemirror_mode": {
    "name": "ipython",
    "version": 3
   },
   "file_extension": ".py",
   "mimetype": "text/x-python",
   "name": "python",
   "nbconvert_exporter": "python",
   "pygments_lexer": "ipython3",
   "version": "3.8.3-final"
  },
  "orig_nbformat": 2,
  "kernelspec": {
   "name": "python3",
   "display_name": "Python 3"
  }
 },
 "nbformat": 4,
 "nbformat_minor": 2,
 "cells": [
  {
   "cell_type": "code",
   "execution_count": null,
   "metadata": {},
   "outputs": [],
   "source": [
    "class Queue:\n",
    "\n",
    "    def __init__(self):\n",
    "        self.queue = []\n",
    "\n",
    "    # Add an element\n",
    "    def enqueue(self, item):\n",
    "        self.queue.append(item)\n",
    "\n",
    "    # Remove an element\n",
    "    def dequeue(self):\n",
    "        if len(self.queue) < 1:\n",
    "            return None\n",
    "        return self.queue.pop(0)\n",
    "\n",
    "    # Display  the queue\n",
    "    def display(self):\n",
    "        print(self.queue)\n",
    "\n",
    "    def size(self):\n",
    "        return len(self.queue)\n"
   ]
  },
  {
   "cell_type": "code",
   "execution_count": null,
   "metadata": {},
   "outputs": [],
   "source": [
    "q = Queue()\n",
    "q.enqueue(1)\n",
    "q.enqueue(2)\n",
    "q.enqueue(3)\n",
    "q.enqueue(4)\n",
    "q.enqueue(5)\n",
    "\n",
    "q.display()\n",
    "\n",
    "q.dequeue()\n",
    "\n",
    "print(\"After removing an element\")\n",
    "q.display()"
   ]
  },
  {
   "source": [
    "# Types of Queues\n",
    "\n",
    "\n",
    "## Simple Queue \n",
    "In a simple queue, insertion takes place at the rear and removal occurs at the front. It strictly follows FIFO rule.  \n",
    "Basic Operations of Queue\n",
    "A queue is an object or more specifically an abstract data structure(ADT) that allows the following operations:  \n",
    "\n",
    "Enqueue: Add an element to the end of the queue  \n",
    "Dequeue: Remove an element from the front of the queue  \n",
    "IsEmpty: Check if the queue is empty  \n",
    "IsFull: Check if the queue is full  \n",
    "Peek: Get the value of the front of the queue without removing it  \n",
    "### Working of Queue\n",
    "Queue operations work as follows:  \n",
    "\n",
    "two pointers FRONT and REAR  \n",
    "FRONT track the first element of the queue  \n",
    "REAR track the last elements of the queue  \n",
    "initially, set value of FRONT and REAR to -1  \n",
    "Enqueue Operation  \n",
    "check if the queue is full  \n",
    "for the first element, set value of FRONT to 0  \n",
    "increase the REAR index by 1  \n",
    "add the new element in the position pointed to by REAR  \n",
    "Dequeue Operation  \n",
    "check if the queue is empty  \n",
    "return the value pointed by FRONT  \n",
    "increase the FRONT index by 1  \n",
    "for the last element, reset the values of FRONT and REAR to -1  \n"
   ],
   "cell_type": "markdown",
   "metadata": {}
  },
  {
   "source": [],
   "cell_type": "markdown",
   "metadata": {}
  }
 ]
}