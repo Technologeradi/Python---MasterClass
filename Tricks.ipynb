{
 "cells": [
  {
   "cell_type": "code",
   "execution_count": null,
   "metadata": {
    "collapsed": true
   },
   "outputs": [],
   "source": [
    "# The Help function\n",
    "#this functions will return the information related to argument,Keywords passed\n",
    "help(zip)"
   ]
  },
  {
   "cell_type": "code",
   "execution_count": null,
   "outputs": [],
   "source": [
    "#Zip combines the iter\n",
    "Name = [\"Aditya\", \"Teadi\", \"Atharva\", \"Lucky\"]\n",
    "Age = [20, 20, 13,13]\n",
    "for i,j in zip(Name,Age):\n",
    "    print(\"{}, {}\".format(i,j))"
   ],
   "metadata": {
    "collapsed": false,
    "pycharm": {
     "name": "#%%\n"
    }
   }
  },
  {
   "cell_type": "code",
   "execution_count": null,
   "outputs": [],
   "source": [
    "#swaping element in one line\n",
    "a = 24\n",
    "b = 4\n",
    "c = 28\n",
    "x = 0\n",
    "y = 0\n",
    "z = 0\n",
    "x,y,z = a,b,c\n",
    "print(z,x,y)\n",
    "a = b\n",
    "print(a)"
   ],
   "metadata": {
    "collapsed": false,
    "pycharm": {
     "name": "#%%\n"
    }
   }
  },
  {
   "cell_type": "code",
   "execution_count": null,
   "outputs": [],
   "source": [
    "import datetime\n",
    "today = datetime.date.today()\n",
    "\n",
    "str(today)\n",
    "repr(today)\n",
    "today\n"
   ],
   "metadata": {
    "collapsed": false,
    "pycharm": {
     "name": "#%%\n"
    }
   }
  },
  {
   "cell_type": "code",
   "execution_count": null,
   "metadata": {
    "tags": []
   },
   "outputs": [],
   "source": [
    "#Print specifi decimal number \n",
    "print(round(3.14213654,2))\n",
    "help(round)"
   ]
  }
 ],
 "metadata": {
  "kernelspec": {
   "name": "pycharm-730c92f5",
   "language": "python",
   "display_name": "PyCharm (Python---MasterClass)"
  },
  "language_info": {
   "codemirror_mode": {
    "name": "ipython",
    "version": 2
   },
   "file_extension": ".py",
   "mimetype": "text/x-python",
   "name": "python",
   "nbconvert_exporter": "python",
   "pygments_lexer": "ipython2",
   "version": "3.7.6-final"
  }
 },
 "nbformat": 4,
 "nbformat_minor": 0
}