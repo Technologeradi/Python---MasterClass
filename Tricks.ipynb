{
 "cells": [
  {
   "cell_type": "code",
   "execution_count": null,
   "metadata": {
    "collapsed": true
   },
   "outputs": [],
   "source": [
    "# The Help function\n",
    "#this functions will return the information related to argument,Keywords passed\n",
    "help(zip)"
   ]
  },
  {
   "cell_type": "code",
   "execution_count": null,
   "outputs": [],
   "source": [
    "#Zip combines the iter\n",
    "Name = [\"Aditya\", \"Teadi\", \"Atharva\", \"Lucky\"]\n",
    "Age = [20, 20, 13,13]\n",
    "for i,j in zip(Name,Age):\n",
    "    print(\"{}, {}\".format(i,j))"
   ],
   "metadata": {
    "collapsed": false,
    "pycharm": {
     "name": "#%%\n"
    }
   }
  },
  {
   "cell_type": "code",
   "execution_count": null,
   "outputs": [],
   "source": [
    "#swaping element in one line\n",
    "a = 24\n",
    "b = 4\n",
    "c = 28\n",
    "x = 0\n",
    "y = 0\n",
    "z = 0\n",
    "x,y,z = a,b,c\n",
    "print(z,x,y)\n",
    "a = b\n",
    "print(a)"
   ],
   "metadata": {
    "collapsed": false,
    "pycharm": {
     "name": "#%%\n"
    }
   }
  },
  {
   "cell_type": "code",
   "execution_count": null,
   "outputs": [],
   "source": [
    "import datetime\n",
    "today = datetime.date.today()\n",
    "str(today)\n",
    "repr(today)\n",
    "today\n"
   ],
   "metadata": {
    "collapsed": false,
    "pycharm": {
     "name": "#%%\n"
    }
   }
  },
  {
   "cell_type": "code",
   "execution_count": null,
   "outputs": [],
   "source": [
    "#Print specifi decimal number \n",
    "print(round(3.14213654,2))\n",
    "help(round)"
   ],
   "metadata": {
    "collapsed": false,
    "pycharm": {
     "name": "#%%\n"
    }
   }
  },
  {
   "cell_type": "code",
   "execution_count": null,
   "outputs": [],
   "source": [
    "'''\n",
    "dis module\n",
    "disassemble functions and\n",
    "inspect their CPython VM bytecode\n",
    "'''\n",
    "def greet(Name):\n",
    "    return 'Hello, ' + Name + '!'\n",
    "\n",
    "greet('Teadi')\n",
    "\n",
    "import dis\n",
    "dis.dis(greet)\n"
   ],
   "metadata": {
    "collapsed": false,
    "pycharm": {
     "name": "#%%\n"
    }
   }
  },
  {
   "cell_type": "code",
   "execution_count": null,
   "metadata": {
    "tags": []
   },
   "outputs": [],
   "source": [
    "import random\n",
    "\n",
    "n= random.randint(0,100)\n",
    "print(n)"
   ]
  },
  {
   "cell_type": "code",
   "execution_count": null,
   "metadata": {
    "tags": []
   },
   "outputs": [],
   "source": [
    "count =0\n",
    "from itertools import permutations as per\n",
    "from itertools import combinations as com\n",
    "import collections\n",
    "#help(com)\n",
    "for i in com(range(10), 3):\n",
    "    print(i)\n",
    "    count = count + 1\n",
    "#for i in com(\"ABDC\"):\n",
    " #   print(i)\n",
    "print(\"\\n\", count)\n"
   ]
  },
  {
   "cell_type": "code",
   "execution_count": null,
   "metadata": {
    "tags": []
   },
   "outputs": [],
   "source": [
    "def test(m, n):\n",
    "    a = range(n, (m*n)+1, n)\n",
    "\n",
    "    print(*a)\n",
    "\n",
    "m = 4\n",
    "n = 3\n",
    "test(m, n)\n"
   ]
  },
  {
   "cell_type": "code",
   "execution_count": null,
   "metadata": {},
   "outputs": [],
   "source": [
    "import ipaddress\n",
    "\n",
    "ipaddress.ip_address('192.168.1.2')\n",
    "#ipaddress.ip_address('2001:af3::')"
   ]
  },
  {
   "cell_type": "code",
   "execution_count": null,
   "metadata": {},
   "outputs": [],
   "source": [
    "# You can get the name of\n",
    "# an object's class as a\n",
    "# string:\n",
    "class MyClass: pass\n",
    "obj = MyClass()\n",
    "obj.__class__.__name__\n",
    "\n",
    "\n",
    "# Functions have a\n",
    "# similar feature:\n",
    "\n",
    "def myfunc(): pass\n",
    "myfunc.__name__\n"
   ]
  },
  {
   "cell_type": "code",
   "execution_count": null,
   "metadata": {
    "tags": []
   },
   "outputs": [],
   "source": [
    "#Remove duplicates from the Array\n",
    "arr = [4,5,6,6,7,7,1,1,2]\n",
    "arr = print(list(set(arr)))\n",
    "# The simple Idea is to convert the array into set and then array again"
   ]
  },
  {
   "cell_type": "code",
   "execution_count": null,
   "metadata": {},
   "outputs": [],
   "source": [
    "# Chacking Subclass \n",
    "class BaseClass:pass\n",
    "class SubClass(BaseClass):pass\n",
    "\n",
    "issubclass(SubClass, BaseClass)\n",
    "# we can check inheritance relationships with the \"issubclass()\" function"
   ]
  }
 ],
 "metadata": {
  "kernelspec": {
   "name": "pycharm-730c92f5",
   "language": "python",
   "display_name": "PyCharm (Python---MasterClass)"
  },
  "language_info": {
   "codemirror_mode": {
    "name": "ipython",
    "version": 2
   },
   "file_extension": ".py",
   "mimetype": "text/x-python",
   "name": "python",
   "nbconvert_exporter": "python",
   "pygments_lexer": "ipython2",
   "version": "3.7.6-final"
  }
 },
 "nbformat": 4,
 "nbformat_minor": 0
}