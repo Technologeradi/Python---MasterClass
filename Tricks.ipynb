{
 "cells": [
  {
   "cell_type": "code",
   "execution_count": null,
   "metadata": {
    "collapsed": true
   },
   "outputs": [],
   "source": [
    "# The Help function\n",
    "#this functions will return the information related to argument,Keywords passed\n",
    "help(zip)"
   ]
  },
  {
   "cell_type": "code",
   "execution_count": null,
   "outputs": [],
   "source": [
    "#Zip combines the iter\n",
    "Name = [\"Aditya\", \"Teadi\", \"Atharva\", \"Lucky\"]\n",
    "Age = [20, 20, 13,13]\n",
    "for i,j in zip(Name,Age):\n",
    "    print(\"{}, {}\".format(i,j))"
   ],
   "metadata": {
    "collapsed": false,
    "pycharm": {
     "name": "#%%\n"
    }
   }
  },
  {
   "cell_type": "code",
   "execution_count": null,
   "outputs": [],
   "source": [
    "#swaping element in one line\n",
    "a = 24\n",
    "b = 4\n",
    "c = 28\n",
    "x = 0\n",
    "y = 0\n",
    "z = 0\n",
    "x,y,z = a,b,c\n",
    "print(z,x,y)\n",
    "a = b\n",
    "print(a)"
   ],
   "metadata": {
    "collapsed": false,
    "pycharm": {
     "name": "#%%\n"
    }
   }
  },
  {
   "cell_type": "code",
   "execution_count": null,
   "outputs": [],
   "source": [
    "#Prints the data and time\n",
    "import datetime\n",
    "today = datetime.date.today()\n",
    "str(today)\n",
    "repr(today)\n",
    "today\n"
   ],
   "metadata": {
    "collapsed": false,
    "pycharm": {
     "name": "#%%\n"
    }
   }
  },
  {
   "cell_type": "code",
   "execution_count": null,
   "outputs": [],
   "source": [
    "#Print specifi decimal number \n",
    "print(round(3.14213654,2))\n",
    "help(round)"
   ],
   "metadata": {
    "collapsed": false,
    "pycharm": {
     "name": "#%%\n"
    }
   }
  },
  {
   "cell_type": "code",
   "execution_count": null,
   "outputs": [],
   "source": [
    "'''\n",
    "dis module\n",
    "disassemble functions and\n",
    "inspect their CPython VM bytecode\n",
    "'''\n",
    "def greet(Name):\n",
    "    return 'Hello, ' + Name + '!'\n",
    "\n",
    "greet('Teadi')\n",
    "\n",
    "import dis\n",
    "dis.dis(greet)\n"
   ],
   "metadata": {
    "collapsed": false,
    "pycharm": {
     "name": "#%%\n"
    }
   }
  },
  {
   "cell_type": "code",
   "execution_count": null,
   "metadata": {
    "tags": []
   },
   "outputs": [],
   "source": [
    "# Randomly prints any number from given range\n",
    "import random\n",
    "n= random.randint(0,100)\n",
    "print(n)"
   ]
  },
  {
   "cell_type": "code",
   "execution_count": null,
   "metadata": {
    "tags": []
   },
   "outputs": [],
   "source": [
    "# Permutaions and Combination \n",
    "count =0\n",
    "from itertools import permutations as per\n",
    "from itertools import combinations as com\n",
    "import collections\n",
    "#help(com)\n",
    "for i in com(range(10), 3):\n",
    "    print(i)\n",
    "    count = count + 1\n",
    "#for i in com(\"ABDC\"):\n",
    " #   print(i)\n",
    "print(\"\\n\", count)\n"
   ]
  },
  {
   "cell_type": "code",
   "execution_count": null,
   "metadata": {
    "tags": []
   },
   "outputs": [],
   "source": [
    "def test(m, n):\n",
    "    a = range(n, (m*n)+1, n)\n",
    "\n",
    "    print(*a)\n",
    "\n",
    "m = 4\n",
    "n = 3\n",
    "test(m, n)\n"
   ]
  },
  {
   "cell_type": "code",
   "execution_count": null,
   "metadata": {},
   "outputs": [],
   "source": [
    "import ipaddress\n",
    "\n",
    "ipaddress.ip_address('192.168.1.2')\n",
    "#ipaddress.ip_address('2001:af3::')"
   ]
  },
  {
   "cell_type": "code",
   "execution_count": null,
   "metadata": {},
   "outputs": [],
   "source": [
    "# You can get the name of\n",
    "# an object's class as a\n",
    "# string:\n",
    "class MyClass: pass\n",
    "obj = MyClass()\n",
    "obj.__class__.__name__\n",
    "\n",
    "\n",
    "# Functions have a\n",
    "# similar feature:\n",
    "\n",
    "def myfunc(): pass\n",
    "myfunc.__name__\n"
   ]
  },
  {
   "cell_type": "code",
   "execution_count": null,
   "metadata": {
    "tags": []
   },
   "outputs": [],
   "source": [
    "#Remove duplicates from the Array\n",
    "arr = [4,5,6,6,7,7,1,1,2]\n",
    "arr = print(list(set(arr)))\n",
    "# The simple Idea is to convert the array into set and then array again"
   ]
  },
  {
   "cell_type": "code",
   "execution_count": null,
   "metadata": {},
   "outputs": [],
   "source": [
    "# Chacking Subclass \n",
    "class BaseClass:pass\n",
    "class SubClass(BaseClass):pass\n",
    "\n",
    "issubclass(SubClass, BaseClass)\n",
    "# we can check inheritance relationships with the \"issubclass()\" function"
   ]
  },
  {
   "source": [
    "python -m timeit -s \"variavle=Fase\" \"if variable == Ture:pass\""
   ],
   "cell_type": "code",
   "metadata": {},
   "execution_count": null,
   "outputs": []
  },
  {
   "cell_type": "code",
   "execution_count": null,
   "metadata": {},
   "outputs": [],
   "source": [
    "# Python 3.3+ has a std\n",
    "# lib module for displaying\n",
    "# tracebacks even when Python\n",
    "# \"dies\", e.g with a segfault:\n",
    "\n",
    "import faulthandler\n",
    "faulthandler.enable()\n",
    "\n",
    "# Can also be enabled with\n",
    "# \"python -X faulthandler\"\n",
    "# from the command line.\n",
    "\n",
    "# For more :\n",
    "# https://docs.python.org/3/library/faulthandler.html"
   ]
  },
  {
   "cell_type": "code",
   "execution_count": null,
   "metadata": {},
   "outputs": [],
   "source": [
    "# Python's `for` and `while` loops\n",
    "# support an `else` clause that executes\n",
    "# only if the loops terminates without\n",
    "# hitting a `break` statement\n",
    "# https://www.getdrip.com/deliveries/eum1kq3wao7ajikwlgq2?view_in_browser=true&__s=wzgnxtrtuur3sntlvsuk\n",
    "# TODO Fix this shit\n",
    "def contains(haystack, needle):\n",
    "    \"\"\"\n",
    "    Throw a ValueError if `needle` not\n",
    "    in `haystack`.\n",
    "    \"\"\"\n",
    "    for item in haystack:\n",
    "        if item == needle:\n",
    "            break\n",
    "    else:\n",
    "        # The `else` here is a\n",
    "        # \"completion clause\" that runs\n",
    "        # only if the loop ran to completion\n",
    "        # without hitting a `break` statement.\n",
    "        raise ValueError('Needle not found')\n",
    "\n",
    "    contains([23, 'needle', 0xbadc0ffee], 'needle')\n",
    "    contains([23, 42, 0xbadc0ffee], 'needle')\n",
    "def better_contains(haystack, needle):\n",
    "    for item in haystack:\n",
    "        if item == needle:\n",
    "            return\n",
    "    raise ValueError('Needle not found')\n",
    "if needle not in haystack:\n",
    "    raise ValueError('Needle not found')"
   ]
  },
  {
   "cell_type": "code",
   "execution_count": null,
   "metadata": {},
   "outputs": [],
   "source": [
    "# Pythonic ways of checking if all\n",
    "# items in a list are equal:\n",
    "\n",
    "lst = ['a', 'a', 'a']\n",
    "len(set(lst)) == 1\n",
    "all(x == lst[0] for x in lst)\n",
    "lst.count(lst[0]) == len(lst)\n",
    "\n",
    "# I ordered those from \"most Pythonic\" to \"least Pythonic\" \n",
    "# and  \"least efficient\" to \"most efficient\". \n",
    "# The len(set()) solution is idiomatic,  but constructing \n",
    "# a set is less efficient memory and speed-wise."
   ]
  },
  {
   "cell_type": "code",
   "execution_count": null,
   "metadata": {},
   "outputs": [],
   "source": [
    "# In Python 3.4+ you can use\n",
    "# contextlib.suppress() to selectively\n",
    "# ignore specific exceptions:\n",
    "\n",
    "import contextlib\n",
    "\n",
    "with contextlib.suppress(FileNotFoundError):\n",
    "    os.remove('somefile.tmp')\n",
    "\n",
    "# This is equivalent to:\n",
    "\n",
    "try:\n",
    "    os.remove('somefile.tmp')\n",
    "except FileNotFoundError:\n",
    "    pass\n",
    "\n",
    "# contextlib.suppress docstring: \n",
    "#\n",
    "# \"Return a context manager that suppresses any \n",
    "#  of the specified exceptions if they occur in the body\n",
    "#  of a with statement and then resumes execution with \n",
    "#  the first statement following the end of \n",
    "#  the with statement.\""
   ]
  },
  {
   "cell_type": "code",
   "execution_count": null,
   "metadata": {},
   "outputs": [],
   "source": [
    "# In Python 3 you can use a bare \"*\" asterisk\n",
    "# in function parameter lists to force the\n",
    "# caller to use keyword arguments for certain\n",
    "# parameters:\n",
    "\n",
    "def f(a, b, *, c='x', d='y', e='z'):\n",
    "    return 'Hello'\n",
    "\n",
    "# To pass the value for c, d, and e you \n",
    "# will need to explicitly pass it as \n",
    "# \"key=value\" named arguments:\n",
    "\n",
    "#f(1, 2, 'p', 'q', 'v')\n",
    "f(1, 2, c='p', d='q',e='v')\n"
   ]
  },
  {
   "cell_type": "code",
   "execution_count": null,
   "metadata": {},
   "outputs": [],
   "source": [
    "# Python 3.5+ allows passing multiple sets\n",
    "# of keyword arguments (\"kwargs\") to a\n",
    "# function within a single call, using\n",
    "# the \"**\" syntax:\n",
    "\n",
    "def process_data(a, b, c, d):\n",
    "    print(a, b, c, d)\n",
    "\n",
    "x = {'a': 1, 'b': 2}\n",
    "y = {'c': 3, 'd': 4}\n",
    "\n",
    "#process_data(**x, **y)\n",
    "\n",
    "\n",
    "process_data(**x, c=23, d=42)\n"
   ]
  }
 ],
 "metadata": {
  "kernelspec": {
   "name": "python3",
   "display_name": "Python 3.8.3 64-bit (conda)",
   "metadata": {
    "interpreter": {
     "hash": "4bba1d32cad56bd564e8db7f54bce5a3582261770c0fd88a009216e68a1efe96"
    }
   }
  },
  "language_info": {
   "codemirror_mode": {
    "name": "ipython",
    "version": 2
   },
   "file_extension": ".py",
   "mimetype": "text/x-python",
   "name": "python",
   "nbconvert_exporter": "python",
   "pygments_lexer": "ipython2",
   "version": "3.8.3-final"
  }
 },
 "nbformat": 4,
 "nbformat_minor": 0
}