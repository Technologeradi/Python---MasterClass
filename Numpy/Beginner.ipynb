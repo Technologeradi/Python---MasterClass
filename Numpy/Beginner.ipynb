{
 "metadata": {
  "language_info": {
   "codemirror_mode": {
    "name": "ipython",
    "version": 3
   },
   "file_extension": ".py",
   "mimetype": "text/x-python",
   "name": "python",
   "nbconvert_exporter": "python",
   "pygments_lexer": "ipython3",
   "version": "3.7.7-final"
  },
  "orig_nbformat": 2,
  "kernelspec": {
   "name": "python_defaultSpec_1598370376176",
   "display_name": "Python 3.7.7 64-bit"
  }
 },
 "nbformat": 4,
 "nbformat_minor": 2,
 "cells": [
  {
   "cell_type": "markdown",
   "metadata": {},
   "source": [
    "# Numpy\n",
    "--- \n",
    "Provides\n",
    "An array object of arbitrary homogeneous items\n",
    "Fast mathematical operations over arrays\n",
    "Linear Algebra, Fourier Transforms, Random Number Generation"
   ]
  },
  {
   "cell_type": "code",
   "execution_count": 3,
   "metadata": {
    "tags": []
   },
   "outputs": [
    {
     "output_type": "stream",
     "name": "stdout",
     "text": "1.19.1\n"
    }
   ],
   "source": [
    "import numpy as np\n",
    "print(np.__version__)"
   ]
  },
  {
   "cell_type": "code",
   "execution_count": null,
   "metadata": {
    "tags": []
   },
   "outputs": [],
   "source": [
    "a =np.arange(15).reshape(3,5)\n",
    "#Prints the array \n",
    "print(a)\n",
    "#number of array dimensions\n",
    "print(a.ndim)\n",
    "#get array data-descriptor\n",
    "print(a.dtype.name)\n",
    "#length of one element in bytes\n",
    "print(a.itemsize)\n",
    "#number of elements in the gentype\n",
    "print(a.size)\n",
    "#pointer to start of data\n",
    "print(a.data)\n"
   ]
  }
 ]
}