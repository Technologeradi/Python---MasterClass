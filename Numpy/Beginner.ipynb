{
 "metadata": {
  "language_info": {
   "codemirror_mode": {
    "name": "ipython",
    "version": 3
   },
   "file_extension": ".py",
   "mimetype": "text/x-python",
   "name": "python",
   "nbconvert_exporter": "python",
   "pygments_lexer": "ipython3",
   "version": "3.7.6-final"
  },
  "orig_nbformat": 2,
  "kernelspec": {
   "name": "python3",
   "language": "python",
   "display_name": "Python 3"
  }
 },
 "nbformat": 4,
 "nbformat_minor": 2,
 "cells": [
  {
   "cell_type": "markdown",
   "metadata": {},
   "source": [
    "# Numpy\n",
    "--- \n",
    "Provides An array object of arbitrary homogeneous items Fast mathematical operations over arrays Linear Algebra, Fourier Transforms Random Number Generation"
   ]
  },
  {
   "cell_type": "code",
   "execution_count": 5,
   "metadata": {
    "tags": []
   },
   "outputs": [
    {
     "output_type": "stream",
     "name": "stdout",
     "text": "1.18.1\n"
    }
   ],
   "source": [
    "import numpy as np\n",
    "print(np.__version__)"
   ]
  },
  {
   "cell_type": "code",
   "execution_count": 4,
   "metadata": {
    "tags": []
   },
   "outputs": [
    {
     "output_type": "stream",
     "name": "stdout",
     "text": "[[ 0  1  2  3  4]\n [ 5  6  7  8  9]\n [10 11 12 13 14]]\n2\nint32\n4\n15\n<memory at 0x000001E98814C2E8>\n"
    }
   ],
   "source": [
    "a =np.arange(15).reshape(3,5)\n",
    "'''Prints the array '''\n",
    "print(a)\n",
    "#number of array dimensions\n",
    "print(a.ndim)\n",
    "#get array data-descriptor\n",
    "print(a.dtype.name)\n",
    "#length of one element in bytes\n",
    "print(a.itemsize)\n",
    "#number of elements in the gentype\n",
    "print(a.size)\n",
    "#pointer to start of data\n",
    "print(a.data)"
   ]
  },
  {
   "cell_type": "code",
   "execution_count": 1,
   "outputs": [
    {
     "name": "stdout",
     "output_type": "stream",
     "text": [
      "test\n"
     ]
    }
   ],
   "source": [],
   "metadata": {
    "collapsed": false,
    "pycharm": {
     "name": "#%%\n"
    }
   }
  }
 ]
}