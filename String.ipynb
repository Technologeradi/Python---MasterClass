{
 "cells": [
  {
   "cell_type": "code",
   "execution_count": null,
   "metadata": {
    "collapsed": true
   },
   "outputs": [],
   "source": [
    "# Reversing sting in two ways\n",
    "s = \"Aditya\"\n",
    "# reverse using inedxing\n",
    "print(s[::-1])\n",
    "# reverse the string using join and reversed\n",
    "# this is the fasted way to reverse a string\n",
    "rev= \"\".join(reversed(s))\n",
    "print(rev)"
   ]
  },
  {
   "cell_type": "code",
   "execution_count": null,
   "outputs": [],
   "source": [
    "str = '''This is a very log\n",
    "and I can type without any problems\n",
    "'''\n",
    "spec=str[6]\n",
    "spec=str[6:]\n",
    "spec=str[:6]\n",
    "spec=str[0:6]\n",
    "spec=str[-4:]\n",
    "print(spec)"
   ],
   "metadata": {
    "collapsed": false,
    "pycharm": {
     "name": "#%%\n"
    }
   }
  },
  {
   "cell_type": "code",
   "execution_count": null,
   "outputs": [],
   "source": [
    "#Print the length of string\n",
    "print(len(str))\n",
    "#Print the string in lower case\n",
    "print(str.lower())\n",
    "#print the string in upper case\n",
    "print(str.upper())\n",
    "print()"
   ],
   "metadata": {
    "collapsed": false,
    "pycharm": {
     "name": "#%%\n"
    }
   }
  },
  {
   "cell_type": "code",
   "execution_count": null,
   "outputs": [],
   "source": [
    "text = '       asdf asdf asdf asdf                      '\n",
    "print(text)\n",
    "print(text.lstrip())\n",
    "print(text.strip())"
   ],
   "metadata": {
    "collapsed": false,
    "pycharm": {
     "name": "#%%\n"
    },
    "tags": []
   }
  }
 ],
 "metadata": {
  "kernelspec": {
   "name": "pycharm-730c92f5",
   "language": "python",
   "display_name": "PyCharm (Python---MasterClass)"
  },
  "language_info": {
   "codemirror_mode": {
    "name": "ipython",
    "version": 2
   },
   "file_extension": ".py",
   "mimetype": "text/x-python",
   "name": "python",
   "nbconvert_exporter": "python",
   "pygments_lexer": "ipython2",
   "version": "3.7.6-final"
  }
 },
 "nbformat": 4,
 "nbformat_minor": 0
}