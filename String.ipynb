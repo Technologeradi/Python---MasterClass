{
 "cells": [
  {
   "cell_type": "code",
   "execution_count": null,
   "outputs": [],
   "source": [],
   "metadata": {
    "collapsed": false,
    "pycharm": {
     "name": "#%%\n"
    }
   }
  },
  {
   "cell_type": "code",
   "execution_count": 5,
   "metadata": {
    "collapsed": true
   },
   "outputs": [
    {
     "name": "stdout",
     "output_type": "stream",
     "text": [
      "aytidA\n",
      "aytidA\n"
     ]
    }
   ],
   "source": [
    "# Reversing sting in two ways\n",
    "s = \"Aditya\"\n",
    "# reverse using inedxing\n",
    "print(s[::-1])\n",
    "# reverse the string using join and reversed\n",
    "# this is the fasted way to reverse a string\n",
    "rev= \"\".join(reversed(s))\n",
    "print(rev)"
   ]
  },
  {
   "cell_type": "code",
   "execution_count": 18,
   "outputs": [
    {
     "name": "stdout",
     "output_type": "stream",
     "text": [
      "ems\n",
      "\n"
     ]
    }
   ],
   "source": [
    "str = '''This is a very log\n",
    "and I can type without any problems\n",
    "'''\n",
    "spec=str[6]\n",
    "spec=str[6:]\n",
    "spec=str[:6]\n",
    "spec=str[0:6]\n",
    "spec=str[-4:]\n",
    "print(spec)"
   ],
   "metadata": {
    "collapsed": false,
    "pycharm": {
     "name": "#%%\n"
    }
   }
  },
  {
   "cell_type": "code",
   "execution_count": 32,
   "outputs": [
    {
     "name": "stdout",
     "output_type": "stream",
     "text": [
      "55\n",
      "this is a very log\n",
      "and i can type without any problems\n",
      "\n",
      "\n",
      "thjs js a very log\n",
      "and j can type wjthout any problems\n",
      "\n"
     ]
    }
   ],
   "source": [
    "#Print the length of string\n",
    "print(len(str))\n",
    "#Print the string in lower case\n",
    "print(str.lower())\n",
    "#print the string in upper case\n",
    "print(str.upper())\n",
    "print(lower.replace(\"i\", \"j\"))"
   ],
   "metadata": {
    "collapsed": false,
    "pycharm": {
     "name": "#%%\n"
    }
   }
  },
  {
   "cell_type": "code",
   "execution_count": 49,
   "outputs": [
    {
     "name": "stdout",
     "output_type": "stream",
     "text": [
      "       asdf asdf asdf asdf                      \n",
      "asdf asdf asdf asdf                      \n",
      "asdf asdf asdf asdf\n"
     ]
    }
   ],
   "source": [
    "text = '       asdf asdf asdf asdf                      '\n",
    "print(text)\n",
    "print(text.lstrip())\n",
    "print(text.strip())"
   ],
   "metadata": {
    "collapsed": false,
    "pycharm": {
     "name": "#%%\n"
    }
   }
  }
 ],
 "metadata": {
  "kernelspec": {
   "name": "pycharm-730c92f5",
   "language": "python",
   "display_name": "PyCharm (Python---MasterClass)"
  },
  "language_info": {
   "codemirror_mode": {
    "name": "ipython",
    "version": 2
   },
   "file_extension": ".py",
   "mimetype": "text/x-python",
   "name": "python",
   "nbconvert_exporter": "python",
   "pygments_lexer": "ipython2",
   "version": "2.7.6"
  }
 },
 "nbformat": 4,
 "nbformat_minor": 0
}